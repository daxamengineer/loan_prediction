{
 "cells": [
  {
   "cell_type": "code",
   "execution_count": 1,
   "metadata": {},
   "outputs": [
    {
     "name": "stdout",
     "output_type": "stream",
     "text": [
      "WARNING:tensorflow:From c:\\Users\\anish\\anaconda3\\Lib\\site-packages\\keras\\src\\losses.py:2976: The name tf.losses.sparse_softmax_cross_entropy is deprecated. Please use tf.compat.v1.losses.sparse_softmax_cross_entropy instead.\n",
      "\n"
     ]
    }
   ],
   "source": [
    "import pandas as pd\n",
    "from tensorflow.keras.models import Sequential\n",
    "from tensorflow.keras.layers import Dense\n",
    "from tensorflow.keras.callbacks import EarlyStopping\n",
    "from sklearn.metrics import roc_auc_score\n",
    "import matplotlib.pyplot as plt"
   ]
  },
  {
   "cell_type": "code",
   "execution_count": 2,
   "metadata": {},
   "outputs": [],
   "source": [
    "#Data Loading\n",
    "X_train = pd.read_csv(\"X_train.csv\") \n",
    "y_train = pd.read_csv(\"y_train.csv\")\n",
    "X_test = pd.read_csv(\"X_test.csv\")\n",
    "y_test = pd.read_csv(\"y_test.csv\") "
   ]
  },
  {
   "cell_type": "markdown",
   "metadata": {},
   "source": [
    "#### Building the model"
   ]
  },
  {
   "cell_type": "code",
   "execution_count": 3,
   "metadata": {},
   "outputs": [
    {
     "name": "stdout",
     "output_type": "stream",
     "text": [
      "WARNING:tensorflow:From c:\\Users\\anish\\anaconda3\\Lib\\site-packages\\keras\\src\\backend.py:873: The name tf.get_default_graph is deprecated. Please use tf.compat.v1.get_default_graph instead.\n",
      "\n"
     ]
    }
   ],
   "source": [
    "model = Sequential()\n",
    "model.add(Dense(64, activation='relu', input_shape=(X_train.shape[1],))) \n",
    "model.add(Dense(32, activation='relu'))\n",
    "model.add(Dense(1, activation='sigmoid'))"
   ]
  },
  {
   "cell_type": "code",
   "execution_count": 4,
   "metadata": {},
   "outputs": [
    {
     "name": "stdout",
     "output_type": "stream",
     "text": [
      "WARNING:tensorflow:From c:\\Users\\anish\\anaconda3\\Lib\\site-packages\\keras\\src\\optimizers\\__init__.py:309: The name tf.train.Optimizer is deprecated. Please use tf.compat.v1.train.Optimizer instead.\n",
      "\n"
     ]
    }
   ],
   "source": [
    "# Compile the model\n",
    "model.compile(loss='binary_crossentropy', optimizer='adam', metrics=['accuracy'])\n",
    "\n",
    "# Early stopping to prevent overfitting\n",
    "early_stop = EarlyStopping(monitor='val_loss', patience=5)"
   ]
  },
  {
   "cell_type": "code",
   "execution_count": 5,
   "metadata": {},
   "outputs": [
    {
     "name": "stdout",
     "output_type": "stream",
     "text": [
      "Epoch 1/50\n",
      "WARNING:tensorflow:From c:\\Users\\anish\\anaconda3\\Lib\\site-packages\\keras\\src\\utils\\tf_utils.py:492: The name tf.ragged.RaggedTensorValue is deprecated. Please use tf.compat.v1.ragged.RaggedTensorValue instead.\n",
      "\n",
      "WARNING:tensorflow:From c:\\Users\\anish\\anaconda3\\Lib\\site-packages\\keras\\src\\engine\\base_layer_utils.py:384: The name tf.executing_eagerly_outside_functions is deprecated. Please use tf.compat.v1.executing_eagerly_outside_functions instead.\n",
      "\n",
      "90/90 [==============================] - 2s 5ms/step - loss: 143438.9844 - accuracy: 0.5375 - val_loss: 51537.8398 - val_accuracy: 0.5545\n",
      "Epoch 2/50\n",
      "90/90 [==============================] - 0s 2ms/step - loss: 36659.2461 - accuracy: 0.5479 - val_loss: 47460.6523 - val_accuracy: 0.6417\n",
      "Epoch 3/50\n",
      "90/90 [==============================] - 0s 2ms/step - loss: 27275.0938 - accuracy: 0.5330 - val_loss: 15135.2715 - val_accuracy: 0.5514\n",
      "Epoch 4/50\n",
      "90/90 [==============================] - 0s 2ms/step - loss: 20077.1191 - accuracy: 0.5347 - val_loss: 17373.2363 - val_accuracy: 0.4548\n",
      "Epoch 5/50\n",
      "90/90 [==============================] - 0s 1ms/step - loss: 13190.2373 - accuracy: 0.5368 - val_loss: 11362.9609 - val_accuracy: 0.5607\n",
      "Epoch 6/50\n",
      "90/90 [==============================] - 0s 1ms/step - loss: 16884.0488 - accuracy: 0.5427 - val_loss: 16357.7197 - val_accuracy: 0.4766\n",
      "Epoch 7/50\n",
      "90/90 [==============================] - 0s 2ms/step - loss: 15616.8447 - accuracy: 0.5319 - val_loss: 14058.3818 - val_accuracy: 0.6324\n",
      "Epoch 8/50\n",
      "90/90 [==============================] - 0s 1ms/step - loss: 11335.5449 - accuracy: 0.5323 - val_loss: 8985.3711 - val_accuracy: 0.6044\n",
      "Epoch 9/50\n",
      "90/90 [==============================] - 0s 2ms/step - loss: 10918.4072 - accuracy: 0.5424 - val_loss: 12289.8369 - val_accuracy: 0.6324\n",
      "Epoch 10/50\n",
      "90/90 [==============================] - 0s 2ms/step - loss: 15415.7070 - accuracy: 0.5437 - val_loss: 7811.5127 - val_accuracy: 0.5857\n",
      "Epoch 11/50\n",
      "90/90 [==============================] - 0s 2ms/step - loss: 11386.4268 - accuracy: 0.5465 - val_loss: 14606.5391 - val_accuracy: 0.6355\n",
      "Epoch 12/50\n",
      "90/90 [==============================] - 0s 2ms/step - loss: 12739.5107 - accuracy: 0.5424 - val_loss: 24515.6094 - val_accuracy: 0.6386\n",
      "Epoch 13/50\n",
      "90/90 [==============================] - 0s 2ms/step - loss: 12423.6084 - accuracy: 0.5479 - val_loss: 22233.0488 - val_accuracy: 0.6324\n",
      "Epoch 14/50\n",
      "90/90 [==============================] - 0s 1ms/step - loss: 17227.8574 - accuracy: 0.5302 - val_loss: 6719.4922 - val_accuracy: 0.5421\n",
      "Epoch 15/50\n",
      "90/90 [==============================] - 0s 2ms/step - loss: 11388.8633 - accuracy: 0.5333 - val_loss: 12414.3242 - val_accuracy: 0.6386\n",
      "Epoch 16/50\n",
      "90/90 [==============================] - 0s 2ms/step - loss: 8053.0874 - accuracy: 0.5622 - val_loss: 5475.1011 - val_accuracy: 0.4984\n",
      "Epoch 17/50\n",
      "90/90 [==============================] - 0s 2ms/step - loss: 7105.4116 - accuracy: 0.5562 - val_loss: 8848.0635 - val_accuracy: 0.4548\n",
      "Epoch 18/50\n",
      "90/90 [==============================] - 0s 1ms/step - loss: 13329.8428 - accuracy: 0.5351 - val_loss: 13222.2988 - val_accuracy: 0.6231\n",
      "Epoch 19/50\n",
      "90/90 [==============================] - 0s 2ms/step - loss: 7817.2778 - accuracy: 0.5524 - val_loss: 10500.1084 - val_accuracy: 0.6386\n",
      "Epoch 20/50\n",
      "90/90 [==============================] - 0s 2ms/step - loss: 9014.3760 - accuracy: 0.5486 - val_loss: 6134.7700 - val_accuracy: 0.5857\n",
      "Epoch 21/50\n",
      "90/90 [==============================] - 0s 3ms/step - loss: 10883.6162 - accuracy: 0.5437 - val_loss: 6027.8740 - val_accuracy: 0.6199\n"
     ]
    }
   ],
   "source": [
    "# Train the model\n",
    "history = model.fit(X_train, y_train, epochs=50, batch_size=32, validation_split=0.1, callbacks=[early_stop])"
   ]
  },
  {
   "cell_type": "code",
   "execution_count": 6,
   "metadata": {},
   "outputs": [
    {
     "name": "stdout",
     "output_type": "stream",
     "text": [
      "101/101 [==============================] - 0s 2ms/step - loss: 5450.2529 - accuracy: 0.6136\n"
     ]
    },
    {
     "data": {
      "text/plain": [
       "[5450.2529296875, 0.613558292388916]"
      ]
     },
     "execution_count": 6,
     "metadata": {},
     "output_type": "execute_result"
    }
   ],
   "source": [
    "model.evaluate(X_train, y_train)\n"
   ]
  },
  {
   "cell_type": "code",
   "execution_count": 7,
   "metadata": {},
   "outputs": [
    {
     "name": "stdout",
     "output_type": "stream",
     "text": [
      "34/34 [==============================] - 0s 2ms/step - loss: 6370.3979 - accuracy: 0.5843\n"
     ]
    },
    {
     "data": {
      "text/plain": [
       "[6370.39794921875, 0.584269642829895]"
      ]
     },
     "execution_count": 7,
     "metadata": {},
     "output_type": "execute_result"
    }
   ],
   "source": [
    "model.evaluate(X_test, y_test)"
   ]
  },
  {
   "cell_type": "code",
   "execution_count": 8,
   "metadata": {},
   "outputs": [
    {
     "name": "stdout",
     "output_type": "stream",
     "text": [
      "34/34 [==============================] - 0s 835us/step\n",
      "ROC AUC Score: 0.49889595808383236\n"
     ]
    }
   ],
   "source": [
    "# Predict on the test set\n",
    "y_pred_prob = model.predict(X_test)\n",
    "\n",
    "# Calculate ROC AUC score\n",
    "roc_auc = roc_auc_score(y_test, y_pred_prob)\n",
    "print(f'ROC AUC Score: {roc_auc}')"
   ]
  },
  {
   "cell_type": "code",
   "execution_count": 9,
   "metadata": {},
   "outputs": [
    {
     "data": {
      "image/png": "[encoded data removed]",
      "text/plain": [
       "<Figure size 640x480 with 1 Axes>"
      ]
     },
     "metadata": {},
     "output_type": "display_data"
    }
   ],
   "source": [
    "#plot the training and validation curve\n",
    "\n",
    "plt.plot(history.history['loss'])\n",
    "plt.plot(history.history['val_loss'])\n",
    "plt.title('Model Loss')\n",
    "plt.ylabel('Loss')\n",
    "plt.xlabel('Epoch')\n",
    "plt.legend(['Train', 'Validation'], loc='upper right')\n",
    "plt.show()"
   ]
  }
 ],
 "metadata": {
  "kernelspec": {
   "display_name": "base",
   "language": "python",
   "name": "python3"
  },
  "language_info": {
   "codemirror_mode": {
    "name": "ipython",
    "version": 3
   },
   "file_extension": ".py",
   "mimetype": "text/x-python",
   "name": "python",
   "nbconvert_exporter": "python",
   "pygments_lexer": "ipython3",
   "version": "3.11.9"
  }
 },
 "nbformat": 4,
 "nbformat_minor": 2
}
