{
 "cells": [
  {
   "cell_type": "code",
   "execution_count": 1,
   "metadata": {},
   "outputs": [
    {
     "name": "stdout",
     "output_type": "stream",
     "text": [
      "WARNING:tensorflow:From c:\\Users\\anish\\anaconda3\\Lib\\site-packages\\keras\\src\\losses.py:2976: The name tf.losses.sparse_softmax_cross_entropy is deprecated. Please use tf.compat.v1.losses.sparse_softmax_cross_entropy instead.\n",
      "\n"
     ]
    }
   ],
   "source": [
    "import pandas as pd\n",
    "from tensorflow.keras.models import Sequential\n",
    "from tensorflow.keras.layers import Dense\n",
    "from tensorflow.keras.callbacks import EarlyStopping\n",
    "from sklearn.metrics import roc_auc_score\n",
    "import matplotlib.pyplot as plt"
   ]
  },
  {
   "cell_type": "code",
   "execution_count": 2,
   "metadata": {},
   "outputs": [],
   "source": [
    "#Data Loading\n",
    "X_train = pd.read_csv(\"X_train.csv\") \n",
    "y_train = pd.read_csv(\"y_train.csv\")\n",
    "X_test = pd.read_csv(\"X_test.csv\")\n",
    "y_test = pd.read_csv(\"y_test.csv\") "
   ]
  },
  {
   "cell_type": "markdown",
   "metadata": {},
   "source": [
    "#### Building the model"
   ]
  },
  {
   "cell_type": "code",
   "execution_count": 3,
   "metadata": {},
   "outputs": [
    {
     "name": "stdout",
     "output_type": "stream",
     "text": [
      "WARNING:tensorflow:From c:\\Users\\anish\\anaconda3\\Lib\\site-packages\\keras\\src\\backend.py:873: The name tf.get_default_graph is deprecated. Please use tf.compat.v1.get_default_graph instead.\n",
      "\n"
     ]
    }
   ],
   "source": [
    "model = Sequential()\n",
    "model.add(Dense(64, activation='relu', input_shape=(X_train.shape[1],))) \n",
    "model.add(Dense(32, activation='relu'))\n",
    "model.add(Dense(1, activation='sigmoid'))"
   ]
  },
  {
   "cell_type": "code",
   "execution_count": 4,
   "metadata": {},
   "outputs": [
    {
     "name": "stdout",
     "output_type": "stream",
     "text": [
      "WARNING:tensorflow:From c:\\Users\\anish\\anaconda3\\Lib\\site-packages\\keras\\src\\optimizers\\__init__.py:309: The name tf.train.Optimizer is deprecated. Please use tf.compat.v1.train.Optimizer instead.\n",
      "\n"
     ]
    }
   ],
   "source": [
    "# Compile the model\n",
    "model.compile(loss='binary_crossentropy', optimizer='adam', metrics=['accuracy'])\n",
    "\n",
    "# Early stopping to prevent overfitting\n",
    "early_stop = EarlyStopping(monitor='val_loss', patience=5)"
   ]
  },
  {
   "cell_type": "code",
   "execution_count": 5,
   "metadata": {},
   "outputs": [
    {
     "name": "stdout",
     "output_type": "stream",
     "text": [
      "Epoch 1/50\n",
      "WARNING:tensorflow:From c:\\Users\\anish\\anaconda3\\Lib\\site-packages\\keras\\src\\utils\\tf_utils.py:492: The name tf.ragged.RaggedTensorValue is deprecated. Please use tf.compat.v1.ragged.RaggedTensorValue instead.\n",
      "\n",
      "WARNING:tensorflow:From c:\\Users\\anish\\anaconda3\\Lib\\site-packages\\keras\\src\\engine\\base_layer_utils.py:384: The name tf.executing_eagerly_outside_functions is deprecated. Please use tf.compat.v1.executing_eagerly_outside_functions instead.\n",
      "\n",
      "90/90 [==============================] - 1s 3ms/step - loss: 163901.8594 - accuracy: 0.5420 - val_loss: 39888.4805 - val_accuracy: 0.6012\n",
      "Epoch 2/50\n",
      "90/90 [==============================] - 0s 1ms/step - loss: 53914.8164 - accuracy: 0.5434 - val_loss: 27663.0371 - val_accuracy: 0.5857\n",
      "Epoch 3/50\n",
      "90/90 [==============================] - 0s 1ms/step - loss: 27944.7676 - accuracy: 0.5396 - val_loss: 41466.3477 - val_accuracy: 0.3894\n",
      "Epoch 4/50\n",
      "90/90 [==============================] - 0s 1ms/step - loss: 33446.3242 - accuracy: 0.5333 - val_loss: 29307.4023 - val_accuracy: 0.6324\n",
      "Epoch 5/50\n",
      "90/90 [==============================] - 0s 1ms/step - loss: 24123.8281 - accuracy: 0.5521 - val_loss: 19288.0020 - val_accuracy: 0.6511\n",
      "Epoch 6/50\n",
      "90/90 [==============================] - 0s 1ms/step - loss: 26308.7832 - accuracy: 0.5458 - val_loss: 26301.6074 - val_accuracy: 0.6417\n",
      "Epoch 7/50\n",
      "90/90 [==============================] - 0s 1ms/step - loss: 26645.7891 - accuracy: 0.5396 - val_loss: 16200.1992 - val_accuracy: 0.4704\n",
      "Epoch 8/50\n",
      "90/90 [==============================] - 0s 1ms/step - loss: 24686.2324 - accuracy: 0.5465 - val_loss: 12749.0508 - val_accuracy: 0.5576\n",
      "Epoch 9/50\n",
      "90/90 [==============================] - 0s 1ms/step - loss: 23786.5723 - accuracy: 0.5431 - val_loss: 41246.3281 - val_accuracy: 0.6417\n",
      "Epoch 10/50\n",
      "90/90 [==============================] - 0s 1ms/step - loss: 30041.0801 - accuracy: 0.5594 - val_loss: 23247.1953 - val_accuracy: 0.6231\n",
      "Epoch 11/50\n",
      "90/90 [==============================] - 0s 1ms/step - loss: 21061.7910 - accuracy: 0.5441 - val_loss: 15202.6982 - val_accuracy: 0.5576\n",
      "Epoch 12/50\n",
      "90/90 [==============================] - 0s 1ms/step - loss: 20752.7051 - accuracy: 0.5403 - val_loss: 21430.4023 - val_accuracy: 0.6137\n",
      "Epoch 13/50\n",
      "90/90 [==============================] - 0s 1ms/step - loss: 23438.5859 - accuracy: 0.5295 - val_loss: 23987.0039 - val_accuracy: 0.6417\n"
     ]
    }
   ],
   "source": [
    "# Train the model\n",
    "history = model.fit(X_train, y_train, epochs=50, batch_size=32, validation_split=0.1, callbacks=[early_stop])"
   ]
  },
  {
   "cell_type": "code",
   "execution_count": 6,
   "metadata": {},
   "outputs": [
    {
     "name": "stdout",
     "output_type": "stream",
     "text": [
      "101/101 [==============================] - 0s 946us/step - loss: 25824.5020 - accuracy: 0.6195\n"
     ]
    },
    {
     "data": {
      "text/plain": [
       "[25824.501953125, 0.6194939017295837]"
      ]
     },
     "execution_count": 6,
     "metadata": {},
     "output_type": "execute_result"
    }
   ],
   "source": [
    "model.evaluate(X_train, y_train)\n"
   ]
  },
  {
   "cell_type": "code",
   "execution_count": 7,
   "metadata": {},
   "outputs": [
    {
     "name": "stdout",
     "output_type": "stream",
     "text": [
      "34/34 [==============================] - 0s 1ms/step - loss: 27569.1582 - accuracy: 0.6320\n"
     ]
    },
    {
     "data": {
      "text/plain": [
       "[27569.158203125, 0.632022500038147]"
      ]
     },
     "execution_count": 7,
     "metadata": {},
     "output_type": "execute_result"
    }
   ],
   "source": [
    "model.evaluate(X_test, y_test)"
   ]
  },
  {
   "cell_type": "code",
   "execution_count": 8,
   "metadata": {},
   "outputs": [
    {
     "name": "stdout",
     "output_type": "stream",
     "text": [
      "34/34 [==============================] - 0s 788us/step\n",
      "ROC AUC Score: 0.5107559880239521\n"
     ]
    }
   ],
   "source": [
    "# Predict on the test set\n",
    "y_pred_prob = model.predict(X_test)\n",
    "\n",
    "# Calculate ROC AUC score\n",
    "roc_auc = roc_auc_score(y_test, y_pred_prob)\n",
    "print(f'ROC AUC Score: {roc_auc}')"
   ]
  },
  {
   "cell_type": "code",
   "execution_count": 9,
   "metadata": {},
   "outputs": [
    {
     "data": {
      "image/png": "[encoded data removed]",
      "text/plain": [
       "<Figure size 640x480 with 1 Axes>"
      ]
     },
     "metadata": {},
     "output_type": "display_data"
    }
   ],
   "source": [
    "#plot the training and validation curve\n",
    "\n",
    "plt.plot(history.history['loss'])\n",
    "plt.plot(history.history['val_loss'])\n",
    "plt.title('Model Loss')\n",
    "plt.ylabel('Loss')\n",
    "plt.xlabel('Epoch')\n",
    "plt.legend(['Train', 'Validation'], loc='upper right')\n",
    "plt.show()"
   ]
  }
 ],
 "metadata": {
  "kernelspec": {
   "display_name": "base",
   "language": "python",
   "name": "python3"
  },
  "language_info": {
   "codemirror_mode": {
    "name": "ipython",
    "version": 3
   },
   "file_extension": ".py",
   "mimetype": "text/x-python",
   "name": "python",
   "nbconvert_exporter": "python",
   "pygments_lexer": "ipython3",
   "version": "3.11.9"
  }
 },
 "nbformat": 4,
 "nbformat_minor": 2
}
