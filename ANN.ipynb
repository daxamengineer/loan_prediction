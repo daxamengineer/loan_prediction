{
 "cells": [
  {
   "cell_type": "code",
   "execution_count": 1,
   "metadata": {},
   "outputs": [
    {
     "name": "stdout",
     "output_type": "stream",
     "text": [
      "WARNING:tensorflow:From c:\\Users\\anish\\anaconda3\\Lib\\site-packages\\keras\\src\\losses.py:2976: The name tf.losses.sparse_softmax_cross_entropy is deprecated. Please use tf.compat.v1.losses.sparse_softmax_cross_entropy instead.\n",
      "\n"
     ]
    }
   ],
   "source": [
    "import pandas as pd\n",
    "from tensorflow.keras.models import Sequential\n",
    "from tensorflow.keras.layers import Dense\n",
    "from tensorflow.keras.callbacks import EarlyStopping\n",
    "from sklearn.metrics import roc_auc_score\n",
    "import matplotlib.pyplot as plt"
   ]
  },
  {
   "cell_type": "code",
   "execution_count": 2,
   "metadata": {},
   "outputs": [],
   "source": [
    "#Data Loading\n",
    "X_train = pd.read_csv(\"X_train.csv\") \n",
    "y_train = pd.read_csv(\"y_train.csv\")\n",
    "X_test = pd.read_csv(\"X_test.csv\")\n",
    "y_test = pd.read_csv(\"y_test.csv\") "
   ]
  },
  {
   "cell_type": "markdown",
   "metadata": {},
   "source": [
    "#### Building the model"
   ]
  },
  {
   "cell_type": "code",
   "execution_count": 3,
   "metadata": {},
   "outputs": [
    {
     "name": "stdout",
     "output_type": "stream",
     "text": [
      "WARNING:tensorflow:From c:\\Users\\anish\\anaconda3\\Lib\\site-packages\\keras\\src\\backend.py:873: The name tf.get_default_graph is deprecated. Please use tf.compat.v1.get_default_graph instead.\n",
      "\n"
     ]
    }
   ],
   "source": [
    "model = Sequential()\n",
    "model.add(Dense(64, activation='relu', input_shape=(X_train.shape[1],))) \n",
    "model.add(Dense(32, activation='relu'))\n",
    "model.add(Dense(1, activation='sigmoid'))"
   ]
  },
  {
   "cell_type": "code",
   "execution_count": 4,
   "metadata": {},
   "outputs": [
    {
     "name": "stdout",
     "output_type": "stream",
     "text": [
      "WARNING:tensorflow:From c:\\Users\\anish\\anaconda3\\Lib\\site-packages\\keras\\src\\optimizers\\__init__.py:309: The name tf.train.Optimizer is deprecated. Please use tf.compat.v1.train.Optimizer instead.\n",
      "\n"
     ]
    }
   ],
   "source": [
    "# Compile the model\n",
    "model.compile(loss='binary_crossentropy', optimizer='adam', metrics=['accuracy'])\n",
    "\n",
    "# Early stopping to prevent overfitting\n",
    "early_stop = EarlyStopping(monitor='val_loss', patience=5)"
   ]
  },
  {
   "cell_type": "code",
   "execution_count": 5,
   "metadata": {},
   "outputs": [
    {
     "name": "stdout",
     "output_type": "stream",
     "text": [
      "Epoch 1/50\n",
      "WARNING:tensorflow:From c:\\Users\\anish\\anaconda3\\Lib\\site-packages\\keras\\src\\utils\\tf_utils.py:492: The name tf.ragged.RaggedTensorValue is deprecated. Please use tf.compat.v1.ragged.RaggedTensorValue instead.\n",
      "\n",
      "WARNING:tensorflow:From c:\\Users\\anish\\anaconda3\\Lib\\site-packages\\keras\\src\\engine\\base_layer_utils.py:384: The name tf.executing_eagerly_outside_functions is deprecated. Please use tf.compat.v1.executing_eagerly_outside_functions instead.\n",
      "\n",
      "90/90 [==============================] - 1s 3ms/step - loss: 791178.5000 - accuracy: 0.5590 - val_loss: 45367.5000 - val_accuracy: 0.5576\n",
      "Epoch 2/50\n",
      "90/90 [==============================] - 0s 1ms/step - loss: 39782.5977 - accuracy: 0.5170 - val_loss: 55204.5117 - val_accuracy: 0.3801\n",
      "Epoch 3/50\n",
      "90/90 [==============================] - 0s 1ms/step - loss: 28315.7246 - accuracy: 0.5323 - val_loss: 15204.6836 - val_accuracy: 0.5421\n",
      "Epoch 4/50\n",
      "90/90 [==============================] - 0s 1ms/step - loss: 17186.9551 - accuracy: 0.5361 - val_loss: 16263.0439 - val_accuracy: 0.6293\n",
      "Epoch 5/50\n",
      "90/90 [==============================] - 0s 1ms/step - loss: 17598.0645 - accuracy: 0.5410 - val_loss: 7759.5693 - val_accuracy: 0.5732\n",
      "Epoch 6/50\n",
      "90/90 [==============================] - 0s 1ms/step - loss: 14541.5107 - accuracy: 0.5476 - val_loss: 20812.7871 - val_accuracy: 0.3614\n",
      "Epoch 7/50\n",
      "90/90 [==============================] - 0s 1ms/step - loss: 19876.2148 - accuracy: 0.5406 - val_loss: 9200.1328 - val_accuracy: 0.6293\n",
      "Epoch 8/50\n",
      "90/90 [==============================] - 0s 2ms/step - loss: 18233.3027 - accuracy: 0.5437 - val_loss: 21046.4590 - val_accuracy: 0.6449\n",
      "Epoch 9/50\n",
      "90/90 [==============================] - 0s 1ms/step - loss: 13516.4580 - accuracy: 0.5403 - val_loss: 5154.7817 - val_accuracy: 0.5421\n",
      "Epoch 10/50\n",
      "90/90 [==============================] - 0s 1ms/step - loss: 17213.7148 - accuracy: 0.5333 - val_loss: 28233.0312 - val_accuracy: 0.3738\n",
      "Epoch 11/50\n",
      "90/90 [==============================] - 0s 1ms/step - loss: 14894.8184 - accuracy: 0.5403 - val_loss: 9992.9980 - val_accuracy: 0.6511\n",
      "Epoch 12/50\n",
      "90/90 [==============================] - 0s 1ms/step - loss: 19836.0078 - accuracy: 0.5368 - val_loss: 6182.3589 - val_accuracy: 0.6075\n",
      "Epoch 13/50\n",
      "90/90 [==============================] - 0s 1ms/step - loss: 12548.3027 - accuracy: 0.5378 - val_loss: 5303.7837 - val_accuracy: 0.5358\n",
      "Epoch 14/50\n",
      "90/90 [==============================] - 0s 1ms/step - loss: 23067.2578 - accuracy: 0.5354 - val_loss: 5002.9204 - val_accuracy: 0.5607\n",
      "Epoch 15/50\n",
      "90/90 [==============================] - 0s 1ms/step - loss: 10856.5713 - accuracy: 0.5417 - val_loss: 12297.1182 - val_accuracy: 0.3988\n",
      "Epoch 16/50\n",
      "90/90 [==============================] - 0s 1ms/step - loss: 11041.0430 - accuracy: 0.5448 - val_loss: 7847.8076 - val_accuracy: 0.6542\n",
      "Epoch 17/50\n",
      "90/90 [==============================] - 0s 1ms/step - loss: 13755.3193 - accuracy: 0.5399 - val_loss: 15463.7148 - val_accuracy: 0.6542\n",
      "Epoch 18/50\n",
      "90/90 [==============================] - 0s 1ms/step - loss: 20857.0469 - accuracy: 0.5531 - val_loss: 6257.1001 - val_accuracy: 0.5763\n",
      "Epoch 19/50\n",
      "90/90 [==============================] - 0s 1ms/step - loss: 21258.3633 - accuracy: 0.5462 - val_loss: 8040.6704 - val_accuracy: 0.6231\n"
     ]
    }
   ],
   "source": [
    "# Train the model\n",
    "history = model.fit(X_train, y_train, epochs=50, batch_size=32, validation_split=0.1, callbacks=[early_stop])"
   ]
  },
  {
   "cell_type": "code",
   "execution_count": 6,
   "metadata": {},
   "outputs": [
    {
     "name": "stdout",
     "output_type": "stream",
     "text": [
      "101/101 [==============================] - 0s 830us/step - loss: 8445.7012 - accuracy: 0.6054\n"
     ]
    },
    {
     "data": {
      "text/plain": [
       "[8445.701171875, 0.6054357886314392]"
      ]
     },
     "execution_count": 6,
     "metadata": {},
     "output_type": "execute_result"
    }
   ],
   "source": [
    "model.evaluate(X_train, y_train)\n"
   ]
  },
  {
   "cell_type": "code",
   "execution_count": 7,
   "metadata": {},
   "outputs": [
    {
     "name": "stdout",
     "output_type": "stream",
     "text": [
      "34/34 [==============================] - 0s 1ms/step - loss: 9930.4600 - accuracy: 0.6096\n"
     ]
    },
    {
     "data": {
      "text/plain": [
       "[9930.4599609375, 0.6095505356788635]"
      ]
     },
     "execution_count": 7,
     "metadata": {},
     "output_type": "execute_result"
    }
   ],
   "source": [
    "model.evaluate(X_test, y_test)"
   ]
  },
  {
   "cell_type": "code",
   "execution_count": 8,
   "metadata": {},
   "outputs": [
    {
     "name": "stdout",
     "output_type": "stream",
     "text": [
      "34/34 [==============================] - 0s 1ms/step\n",
      "ROC AUC Score: 0.5233832335329341\n"
     ]
    }
   ],
   "source": [
    "# Predict on the test set\n",
    "y_pred_prob = model.predict(X_test)\n",
    "\n",
    "# Calculate ROC AUC score\n",
    "roc_auc = roc_auc_score(y_test, y_pred_prob)\n",
    "print(f'ROC AUC Score: {roc_auc}')"
   ]
  },
  {
   "cell_type": "code",
   "execution_count": 9,
   "metadata": {},
   "outputs": [
    {
     "data": {
      "image/png": "[encoded data removed]",
      "text/plain": [
       "<Figure size 640x480 with 1 Axes>"
      ]
     },
     "metadata": {},
     "output_type": "display_data"
    }
   ],
   "source": [
    "#plot the training and validation curve\n",
    "\n",
    "plt.plot(history.history['loss'])\n",
    "plt.plot(history.history['val_loss'])\n",
    "plt.title('Model Loss')\n",
    "plt.ylabel('Loss')\n",
    "plt.xlabel('Epoch')\n",
    "plt.legend(['Train', 'Validation'], loc='upper right')\n",
    "plt.show()"
   ]
  }
 ],
 "metadata": {
  "kernelspec": {
   "display_name": "base",
   "language": "python",
   "name": "python3"
  },
  "language_info": {
   "codemirror_mode": {
    "name": "ipython",
    "version": 3
   },
   "file_extension": ".py",
   "mimetype": "text/x-python",
   "name": "python",
   "nbconvert_exporter": "python",
   "pygments_lexer": "ipython3",
   "version": "3.11.9"
  }
 },
 "nbformat": 4,
 "nbformat_minor": 2
}
